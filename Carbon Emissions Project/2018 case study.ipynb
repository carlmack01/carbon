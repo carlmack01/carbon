{
 "cells": [
  {
   "cell_type": "code",
   "execution_count": 2,
   "metadata": {},
   "outputs": [],
   "source": [
    "from matplotlib import pyplot as plt\n",
    "from scipy.stats import linregress\n",
    "import numpy as np\n",
    "from sklearn import datasets\n",
    "import pandas as pd"
   ]
  },
  {
   "cell_type": "code",
   "execution_count": 3,
   "metadata": {},
   "outputs": [
    {
     "data": {
      "text/html": [
       "<div>\n",
       "<style scoped>\n",
       "    .dataframe tbody tr th:only-of-type {\n",
       "        vertical-align: middle;\n",
       "    }\n",
       "\n",
       "    .dataframe tbody tr th {\n",
       "        vertical-align: top;\n",
       "    }\n",
       "\n",
       "    .dataframe thead th {\n",
       "        text-align: right;\n",
       "    }\n",
       "</style>\n",
       "<table border=\"1\" class=\"dataframe\">\n",
       "  <thead>\n",
       "    <tr style=\"text-align: right;\">\n",
       "      <th></th>\n",
       "      <th>Unnamed: 0</th>\n",
       "      <th>State</th>\n",
       "      <th>Household Income</th>\n",
       "      <th>Population</th>\n",
       "      <th>Median Age</th>\n",
       "      <th>Per Capita Income</th>\n",
       "      <th>Poverty Count</th>\n",
       "      <th>Unemployment Count</th>\n",
       "      <th>CO2\\n(Metric Tons)</th>\n",
       "      <th>SO2\\n(Metric Tons)</th>\n",
       "      <th>NOx\\n(Metric Tons)</th>\n",
       "      <th>Allowances Sold</th>\n",
       "      <th>Auction Proceeds</th>\n",
       "      <th>Price</th>\n",
       "    </tr>\n",
       "  </thead>\n",
       "  <tbody>\n",
       "    <tr>\n",
       "      <th>0</th>\n",
       "      <td>0</td>\n",
       "      <td>MN</td>\n",
       "      <td>68411.0</td>\n",
       "      <td>5527358.0</td>\n",
       "      <td>37.9</td>\n",
       "      <td>36245.0</td>\n",
       "      <td>547442.0</td>\n",
       "      <td>119218.0</td>\n",
       "      <td>119220500</td>\n",
       "      <td>95976</td>\n",
       "      <td>106992</td>\n",
       "      <td>NaN</td>\n",
       "      <td>NaN</td>\n",
       "      <td>NaN</td>\n",
       "    </tr>\n",
       "    <tr>\n",
       "      <th>1</th>\n",
       "      <td>1</td>\n",
       "      <td>NH</td>\n",
       "      <td>74057.0</td>\n",
       "      <td>1343622.0</td>\n",
       "      <td>42.7</td>\n",
       "      <td>38548.0</td>\n",
       "      <td>102352.0</td>\n",
       "      <td>30392.0</td>\n",
       "      <td>8762252</td>\n",
       "      <td>5392</td>\n",
       "      <td>10000</td>\n",
       "      <td>3,151,333</td>\n",
       "      <td>13,878,414</td>\n",
       "      <td>4.403982</td>\n",
       "    </tr>\n",
       "    <tr>\n",
       "      <th>2</th>\n",
       "      <td>2</td>\n",
       "      <td>NJ</td>\n",
       "      <td>79363.0</td>\n",
       "      <td>8881845.0</td>\n",
       "      <td>39.8</td>\n",
       "      <td>40895.0</td>\n",
       "      <td>904132.0</td>\n",
       "      <td>285084.0</td>\n",
       "      <td>75646992</td>\n",
       "      <td>12280</td>\n",
       "      <td>40292</td>\n",
       "      <td>0</td>\n",
       "      <td>0</td>\n",
       "      <td>0.000000</td>\n",
       "    </tr>\n",
       "    <tr>\n",
       "      <th>3</th>\n",
       "      <td>3</td>\n",
       "      <td>NY</td>\n",
       "      <td>65323.0</td>\n",
       "      <td>19618453.0</td>\n",
       "      <td>38.7</td>\n",
       "      <td>37470.0</td>\n",
       "      <td>2797985.0</td>\n",
       "      <td>602636.0</td>\n",
       "      <td>111745556</td>\n",
       "      <td>42980</td>\n",
       "      <td>115744</td>\n",
       "      <td>21,294,281</td>\n",
       "      <td>94,014,250</td>\n",
       "      <td>4.415000</td>\n",
       "    </tr>\n",
       "    <tr>\n",
       "      <th>4</th>\n",
       "      <td>4</td>\n",
       "      <td>RI</td>\n",
       "      <td>63296.0</td>\n",
       "      <td>1056611.0</td>\n",
       "      <td>39.9</td>\n",
       "      <td>34619.0</td>\n",
       "      <td>133055.0</td>\n",
       "      <td>34479.0</td>\n",
       "      <td>13391436</td>\n",
       "      <td>248</td>\n",
       "      <td>7540</td>\n",
       "      <td>979,549</td>\n",
       "      <td>4,316,294</td>\n",
       "      <td>4.406409</td>\n",
       "    </tr>\n",
       "  </tbody>\n",
       "</table>\n",
       "</div>"
      ],
      "text/plain": [
       "   Unnamed: 0 State  Household Income  Population  Median Age  \\\n",
       "0           0    MN           68411.0   5527358.0        37.9   \n",
       "1           1    NH           74057.0   1343622.0        42.7   \n",
       "2           2    NJ           79363.0   8881845.0        39.8   \n",
       "3           3    NY           65323.0  19618453.0        38.7   \n",
       "4           4    RI           63296.0   1056611.0        39.9   \n",
       "\n",
       "   Per Capita Income  Poverty Count  Unemployment Count  CO2\\n(Metric Tons)  \\\n",
       "0            36245.0       547442.0            119218.0           119220500   \n",
       "1            38548.0       102352.0             30392.0             8762252   \n",
       "2            40895.0       904132.0            285084.0            75646992   \n",
       "3            37470.0      2797985.0            602636.0           111745556   \n",
       "4            34619.0       133055.0             34479.0            13391436   \n",
       "\n",
       "   SO2\\n(Metric Tons)  NOx\\n(Metric Tons) Allowances Sold Auction Proceeds  \\\n",
       "0               95976              106992             NaN              NaN   \n",
       "1                5392               10000       3,151,333       13,878,414   \n",
       "2               12280               40292               0                0   \n",
       "3               42980              115744      21,294,281       94,014,250   \n",
       "4                 248                7540         979,549        4,316,294   \n",
       "\n",
       "      Price  \n",
       "0       NaN  \n",
       "1  4.403982  \n",
       "2  0.000000  \n",
       "3  4.415000  \n",
       "4  4.406409  "
      ]
     },
     "execution_count": 3,
     "metadata": {},
     "output_type": "execute_result"
    }
   ],
   "source": [
    "emissions = pd.read_csv('clean_total_df.csv')\n",
    "emissions.head()"
   ]
  },
  {
   "cell_type": "code",
   "execution_count": 4,
   "metadata": {},
   "outputs": [
    {
     "data": {
      "image/png": "[encoded data removed]",
      "text/plain": [
       "<Figure size 432x288 with 1 Axes>"
      ]
     },
     "metadata": {
      "needs_background": "light"
     },
     "output_type": "display_data"
    }
   ],
   "source": [
    "x_values = emissions['Price']\n",
    "y_values = emissions['CO2\\n(Metric Tons)']\n",
    "plt.scatter(x_values,y_values)\n",
    "plt.xlabel('Price')\n",
    "plt.ylabel('CO2 In MEtric Tons')\n",
    "plt.show()"
   ]
  },
  {
   "cell_type": "code",
   "execution_count": 5,
   "metadata": {},
   "outputs": [
    {
     "data": {
      "image/png": "[encoded data removed]",
      "text/plain": [
       "<Figure size 432x288 with 1 Axes>"
      ]
     },
     "metadata": {
      "needs_background": "light"
     },
     "output_type": "display_data"
    }
   ],
   "source": [
    "x_values = emissions['Per Capita Income']\n",
    "y_values = emissions['CO2\\n(Metric Tons)']\n",
    "plt.scatter(x_values,y_values)\n",
    "plt.xlabel('Per Capita Income')\n",
    "plt.ylabel('CO2 In MEtric Tons')\n",
    "plt.show()"
   ]
  },
  {
   "cell_type": "code",
   "execution_count": 7,
   "metadata": {},
   "outputs": [
    {
     "name": "stdout",
     "output_type": "stream",
     "text": [
      "The r-squared is: 0.006022153497913725\n"
     ]
    },
    {
     "data": {
      "image/png": "[encoded data removed]",
      "text/plain": [
       "<Figure size 432x288 with 1 Axes>"
      ]
     },
     "metadata": {
      "needs_background": "light"
     },
     "output_type": "display_data"
    }
   ],
   "source": [
    "(slope, intercept, rvalue, pvalue, stderr) = linregress(x_values, y_values)\n",
    "regress_values = x_values * slope + intercept\n",
    "line_eq = \"y = \" + str(round(slope,2)) + \"x + \" + str(round(intercept,2))\n",
    "plt.scatter(x_values,y_values)\n",
    "plt.plot(x_values,regress_values,\"r-\")\n",
    "plt.annotate(line_eq,(6,10),fontsize=15,color=\"red\")\n",
    "plt.xlabel('Per Capita Income')\n",
    "plt.ylabel('CO2 in MEtric Tons')\n",
    "print(f\"The r-squared is: {rvalue**2}\")\n",
    "plt.show()"
   ]
  }
 ],
 "metadata": {
  "kernelspec": {
   "display_name": "Python 3",
   "language": "python",
   "name": "python3"
  },
  "language_info": {
   "codemirror_mode": {
    "name": "ipython",
    "version": 3
   },
   "file_extension": ".py",
   "mimetype": "text/x-python",
   "name": "python",
   "nbconvert_exporter": "python",
   "pygments_lexer": "ipython3",
   "version": "3.6.10"
  }
 },
 "nbformat": 4,
 "nbformat_minor": 4
}
